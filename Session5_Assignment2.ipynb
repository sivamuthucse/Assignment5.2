{
 "cells": [
  {
   "cell_type": "code",
   "execution_count": 1,
   "metadata": {},
   "outputs": [
    {
     "name": "stdout",
     "output_type": "stream",
     "text": [
      "Americans play Baseball.\n",
      "Americans play Cricket.\n",
      "Americans watch Baseball.\n",
      "Americans watch Cricket.\n",
      "Indians play Baseball.\n",
      "Indians play Cricket.\n",
      "Indians watch Baseball.\n",
      "Indians watch Cricket.\n"
     ]
    }
   ],
   "source": [
    "# Implement a Python program in to generate all sentences where subject is in [\"Americans\",\"Indians\"] \n",
    "# and verb is in [\"play\",\"watch\"] and the object is in [\"Baseball\",\"Cricket\"]\n",
    "\n",
    "# Hint : Subject,Verb and Object should be declared in the Program as shown below.\n",
    "\n",
    "# subjects=[\"Americans\",\"Indians\"]\n",
    "# verbs=[\"Baseball\",\"Cricket\"]\n",
    "# objects=[\"Baseball\",\"Cricket\"]\n",
    "\n",
    "# Solution :\n",
    "\n",
    "subjects=[\"Americans\",\"Indians\"]\n",
    "verbs=[\"play\",\"watch\"]\n",
    "objects=[\"Baseball\",\"Cricket\"]\n",
    "for i in range(len(subjects)):\n",
    "    for j in range(len(verbs)):\n",
    "        for k in range(len(objects)):\n",
    "            sentence = \"%s %s %s.\" % (subjects[i], verbs[j], objects[k])\n",
    "            print(sentence)"
   ]
  },
  {
   "cell_type": "code",
   "execution_count": null,
   "metadata": {
    "collapsed": true
   },
   "outputs": [],
   "source": []
  }
 ],
 "metadata": {
  "kernelspec": {
   "display_name": "Python 3",
   "language": "python",
   "name": "python3"
  },
  "language_info": {
   "codemirror_mode": {
    "name": "ipython",
    "version": 3
   },
   "file_extension": ".py",
   "mimetype": "text/x-python",
   "name": "python",
   "nbconvert_exporter": "python",
   "pygments_lexer": "ipython3",
   "version": "3.6.2"
  }
 },
 "nbformat": 4,
 "nbformat_minor": 2
}
